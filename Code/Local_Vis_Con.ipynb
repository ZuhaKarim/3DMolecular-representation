{
 "cells": [
  {
   "cell_type": "code",
   "execution_count": 5,
   "metadata": {},
   "outputs": [],
   "source": [
    "import numpy as np\n",
    "from typing import Any, List\n",
    "#from deepchem.utils.typing import RDKitMol\n",
    "from rdkit import Chem\n",
    "from rdkit.Chem import AllChem\n",
    "import pandas as pd\n",
    "import pickle\n",
    "import pymol"
   ]
  },
  {
   "cell_type": "code",
   "execution_count": 3,
   "metadata": {},
   "outputs": [],
   "source": [
    "# smiles_array = []\n",
    "\n",
    "# with open('Pickles/test_data_200.pkl', 'rb') as fp:\n",
    "#     Pickle_molecule_ = pickle.load(fp)\n",
    "# print(Pickle_molecule_)"
   ]
  },
  {
   "cell_type": "code",
   "execution_count": 10,
   "metadata": {},
   "outputs": [
    {
     "name": "stdout",
     "output_type": "stream",
     "text": [
      "[<rdkit.Chem.rdchem.Mol object at 0x7f68e87e32b0>, <rdkit.Chem.rdchem.Mol object at 0x7f68e87e32b0>, <rdkit.Chem.rdchem.Mol object at 0x7f68e87e32b0>, <rdkit.Chem.rdchem.Mol object at 0x7f68e87e32b0>, <rdkit.Chem.rdchem.Mol object at 0x7f68e87e32b0>, <rdkit.Chem.rdchem.Mol object at 0x7f68e87e32b0>, <rdkit.Chem.rdchem.Mol object at 0x7f68e87e32b0>, <rdkit.Chem.rdchem.Mol object at 0x7f68e87e32b0>, <rdkit.Chem.rdchem.Mol object at 0x7f68e87e32b0>, <rdkit.Chem.rdchem.Mol object at 0x7f68e87e32b0>, <rdkit.Chem.rdchem.Mol object at 0x7f68e52abd30>, <rdkit.Chem.rdchem.Mol object at 0x7f68e52abd30>, <rdkit.Chem.rdchem.Mol object at 0x7f68e52abd30>, <rdkit.Chem.rdchem.Mol object at 0x7f68e52abd30>, <rdkit.Chem.rdchem.Mol object at 0x7f68e52abd30>, <rdkit.Chem.rdchem.Mol object at 0x7f68e52abd30>, <rdkit.Chem.rdchem.Mol object at 0x7f68e52abd30>, <rdkit.Chem.rdchem.Mol object at 0x7f68e52abd30>, <rdkit.Chem.rdchem.Mol object at 0x7f68e52abd30>, <rdkit.Chem.rdchem.Mol object at 0x7f68e52abd30>, <rdkit.Chem.rdchem.Mol object at 0x7f68e5b1bc70>, <rdkit.Chem.rdchem.Mol object at 0x7f68e5b1bc70>, <rdkit.Chem.rdchem.Mol object at 0x7f68e5b1bc70>, <rdkit.Chem.rdchem.Mol object at 0x7f68e5b1bc70>, <rdkit.Chem.rdchem.Mol object at 0x7f68e5b1bc70>, <rdkit.Chem.rdchem.Mol object at 0x7f68e5b1bc70>, <rdkit.Chem.rdchem.Mol object at 0x7f68e5b1bc70>, <rdkit.Chem.rdchem.Mol object at 0x7f68e5b1bc70>, <rdkit.Chem.rdchem.Mol object at 0x7f68e5b1bc70>, <rdkit.Chem.rdchem.Mol object at 0x7f68e5b1bc70>, <rdkit.Chem.rdchem.Mol object at 0x7f68e87ed7b0>, <rdkit.Chem.rdchem.Mol object at 0x7f68e87ed7b0>, <rdkit.Chem.rdchem.Mol object at 0x7f68e87ed7b0>, <rdkit.Chem.rdchem.Mol object at 0x7f68e87ed7b0>, <rdkit.Chem.rdchem.Mol object at 0x7f68e87ed7b0>, <rdkit.Chem.rdchem.Mol object at 0x7f68e87ed7b0>, <rdkit.Chem.rdchem.Mol object at 0x7f68e87ed7b0>, <rdkit.Chem.rdchem.Mol object at 0x7f68e87ed7b0>, <rdkit.Chem.rdchem.Mol object at 0x7f68e87ed7b0>, <rdkit.Chem.rdchem.Mol object at 0x7f68e87ed7b0>, <rdkit.Chem.rdchem.Mol object at 0x7f68e87ed4b0>, <rdkit.Chem.rdchem.Mol object at 0x7f68e87ed4b0>, <rdkit.Chem.rdchem.Mol object at 0x7f68e87ed4b0>, <rdkit.Chem.rdchem.Mol object at 0x7f68e87ed4b0>, <rdkit.Chem.rdchem.Mol object at 0x7f68e87ed4b0>, <rdkit.Chem.rdchem.Mol object at 0x7f68e87ed4b0>, <rdkit.Chem.rdchem.Mol object at 0x7f68e87ed4b0>, <rdkit.Chem.rdchem.Mol object at 0x7f68e87ed4b0>, <rdkit.Chem.rdchem.Mol object at 0x7f68e87ed4b0>, <rdkit.Chem.rdchem.Mol object at 0x7f68e87ed4b0>, <rdkit.Chem.rdchem.Mol object at 0x7f68e87ed030>, <rdkit.Chem.rdchem.Mol object at 0x7f68e87ed030>, <rdkit.Chem.rdchem.Mol object at 0x7f68e87ed030>, <rdkit.Chem.rdchem.Mol object at 0x7f68e87ed030>, <rdkit.Chem.rdchem.Mol object at 0x7f68e87ed030>, <rdkit.Chem.rdchem.Mol object at 0x7f68e87ed030>, <rdkit.Chem.rdchem.Mol object at 0x7f68e87ed030>, <rdkit.Chem.rdchem.Mol object at 0x7f68e87ed030>, <rdkit.Chem.rdchem.Mol object at 0x7f68e87ed030>, <rdkit.Chem.rdchem.Mol object at 0x7f68e87ed030>]\n"
     ]
    }
   ],
   "source": [
    "smiles_array = []\n",
    "\n",
    "with open('CGCF_QM9_6_OP.pkl', 'rb') as fp:\n",
    "    Pickle_molecule_ = pickle.load(fp)\n",
    "print(Pickle_molecule_)\n",
    "\n",
    "#for i in Pickle_molecule_:\n",
    "    #print(Chem.MolFromSmiles(i))\n",
    "    # mblock2 = make_blk(mol1)\n",
    "    # vw1 = render(mblock2)\n",
    "    # vw1.show()\n",
    "#print(mol1)\n",
    "\n",
    "\n",
    "# for mol in smiles_array:\n",
    "#     mol1 = Chem.MolFromSmiles(mol)\n",
    "#     mblock2 = make_blk(mol1)\n",
    "#     vw1 = render(mblock2)\n",
    "#     vw1.show()"
   ]
  },
  {
   "cell_type": "code",
   "execution_count": 5,
   "metadata": {},
   "outputs": [],
   "source": [
    "\n",
    "# for i in range (10):\n",
    "#     first_10.append(Input_mol_QM9[i])\n"
   ]
  },
  {
   "cell_type": "code",
   "execution_count": null,
   "metadata": {},
   "outputs": [],
   "source": []
  }
 ],
 "metadata": {
  "kernelspec": {
   "display_name": "Python 3.7.13 ('pymolenv3_7')",
   "language": "python",
   "name": "python3"
  },
  "language_info": {
   "codemirror_mode": {
    "name": "ipython",
    "version": 3
   },
   "file_extension": ".py",
   "mimetype": "text/x-python",
   "name": "python",
   "nbconvert_exporter": "python",
   "pygments_lexer": "ipython3",
   "version": "3.7.13"
  },
  "orig_nbformat": 4,
  "vscode": {
   "interpreter": {
    "hash": "b2cfdc5a642ab89a7b7ef425c3a928495054d46a579efc6cc1bdc0d9dd42003d"
   }
  }
 },
 "nbformat": 4,
 "nbformat_minor": 2
}
