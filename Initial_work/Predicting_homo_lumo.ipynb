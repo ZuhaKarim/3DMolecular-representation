{
 "cells": [
  {
   "cell_type": "code",
   "execution_count": 3,
   "metadata": {},
   "outputs": [],
   "source": [
    "import numpy as np\n",
    "import tensorflow as tf\n",
    "from tensorflow.keras.layers import Dense\n",
    "from tensorflow.keras.models import Model\n",
    "from tensorflow.keras.optimizers import Adam\n",
    "\n",
    "from spektral.data import BatchLoader\n",
    "from spektral.datasets import QM9\n",
    "from spektral.layers import ECCConv, GlobalSumPool, GraphMasking\n",
    "from spektral.data import Graph"
   ]
  },
  {
   "cell_type": "code",
   "execution_count": 4,
   "metadata": {},
   "outputs": [],
   "source": [
    "learning_rate = 1e-3  # Learning rate\n",
    "epochs = 10  # Number of training epochs\n",
    "batch_size = 32  # Batch size"
   ]
  },
  {
   "cell_type": "code",
   "execution_count": 5,
   "metadata": {},
   "outputs": [
    {
     "name": "stdout",
     "output_type": "stream",
     "text": [
      "Loading QM9 dataset.\n",
      "Reading SDF\n"
     ]
    },
    {
     "name": "stderr",
     "output_type": "stream",
     "text": [
      "100%|█████████████████████████████████████| 1000/1000 [00:00<00:00, 1099.39it/s]\n"
     ]
    }
   ],
   "source": [
    "dataset = QM9(amount=1000)"
   ]
  },
  {
   "cell_type": "code",
   "execution_count": 6,
   "metadata": {},
   "outputs": [],
   "source": [
    "for i in range(len(dataset)):\n",
    "    dataset[i] = Graph(x=dataset[i].x, a=dataset[i].a, e=dataset[i].e, y=dataset[i].y[5:7])"
   ]
  },
  {
   "cell_type": "code",
   "execution_count": 7,
   "metadata": {},
   "outputs": [],
   "source": [
    "F = dataset.n_node_features  # Dimension of node features\n",
    "S = dataset.n_edge_features  # Dimension of edge features\n",
    "n_out = 2     # Dimension of the target"
   ]
  },
  {
   "cell_type": "code",
   "execution_count": 8,
   "metadata": {},
   "outputs": [],
   "source": [
    "idxs = np.random.permutation(len(dataset))\n",
    "split = int(0.9 * len(dataset))\n",
    "idx_tr, idx_te = np.split(idxs, [split])\n",
    "dataset_tr, dataset_te = dataset[idx_tr], dataset[idx_te]"
   ]
  },
  {
   "cell_type": "code",
   "execution_count": 9,
   "metadata": {},
   "outputs": [],
   "source": [
    "class Net(Model):\n",
    "    def __init__(self):\n",
    "        super().__init__()\n",
    "        self.masking = GraphMasking()\n",
    "        self.conv1 = ECCConv(32, activation=\"relu\")\n",
    "        self.conv2 = ECCConv(32, activation=\"relu\")\n",
    "        self.global_pool = GlobalSumPool()\n",
    "        self.dense = Dense(n_out)\n",
    "\n",
    "    def call(self, inputs):\n",
    "        x, a, e = inputs\n",
    "        x = self.masking(x)\n",
    "        x = self.conv1([x, a, e])\n",
    "        x = self.conv2([x, a, e])\n",
    "        output = self.global_pool(x)\n",
    "        output = self.dense(output)\n",
    "\n",
    "        return output"
   ]
  },
  {
   "cell_type": "code",
   "execution_count": 10,
   "metadata": {},
   "outputs": [],
   "source": [
    "model = Net()\n",
    "optimizer = Adam(learning_rate)\n",
    "model.compile(optimizer=optimizer, loss=\"mse\")"
   ]
  },
  {
   "cell_type": "code",
   "execution_count": 11,
   "metadata": {},
   "outputs": [
    {
     "name": "stdout",
     "output_type": "stream",
     "text": [
      "Epoch 1/10\n",
      "29/29 [==============================] - 2s 23ms/step - loss: 1.4025\n",
      "Epoch 2/10\n",
      "29/29 [==============================] - 1s 24ms/step - loss: 0.1006\n",
      "Epoch 3/10\n",
      "29/29 [==============================] - 1s 23ms/step - loss: 0.0463\n",
      "Epoch 4/10\n",
      "29/29 [==============================] - 1s 23ms/step - loss: 0.0349\n",
      "Epoch 5/10\n",
      "29/29 [==============================] - 1s 22ms/step - loss: 0.0289\n",
      "Epoch 6/10\n",
      "29/29 [==============================] - 1s 23ms/step - loss: 0.0240\n",
      "Epoch 7/10\n",
      "29/29 [==============================] - 1s 23ms/step - loss: 0.0210\n",
      "Epoch 8/10\n",
      "29/29 [==============================] - 1s 23ms/step - loss: 0.0180\n",
      "Epoch 9/10\n",
      "29/29 [==============================] - 1s 24ms/step - loss: 0.0160\n",
      "Epoch 10/10\n",
      "29/29 [==============================] - 1s 24ms/step - loss: 0.0151\n"
     ]
    },
    {
     "data": {
      "text/plain": [
       "<keras.callbacks.History at 0x7f3f05aa1be0>"
      ]
     },
     "execution_count": 11,
     "metadata": {},
     "output_type": "execute_result"
    }
   ],
   "source": [
    "loader_tr = BatchLoader(dataset_tr, batch_size=batch_size, mask=True)\n",
    "model.fit(loader_tr.load(), steps_per_epoch=loader_tr.steps_per_epoch, epochs=epochs)"
   ]
  },
  {
   "cell_type": "code",
   "execution_count": 10,
   "metadata": {},
   "outputs": [
    {
     "name": "stdout",
     "output_type": "stream",
     "text": [
      "Testing model\n",
      "4/4 [==============================] - 0s 12ms/step - loss: 0.0254\n",
      "Done. Test loss: 0.025424746796488762\n"
     ]
    }
   ],
   "source": [
    "print(\"Testing model\")\n",
    "loader_te = BatchLoader(dataset_te, batch_size=batch_size, mask=True)\n",
    "loss = model.evaluate(loader_te.load(), steps=loader_te.steps_per_epoch)\n",
    "print(\"Done. Test loss: {}\".format(loss))"
   ]
  }
 ],
 "metadata": {
  "interpreter": {
   "hash": "b7e9b38ef6590dca48d52aa9e41f88986f55a2fdf9e7ba0f410ea8aca6032eea"
  },
  "kernelspec": {
   "display_name": "Python 3.6.8 ('Spektral_PIP')",
   "language": "python",
   "name": "python3"
  },
  "language_info": {
   "codemirror_mode": {
    "name": "ipython",
    "version": 3
   },
   "file_extension": ".py",
   "mimetype": "text/x-python",
   "name": "python",
   "nbconvert_exporter": "python",
   "pygments_lexer": "ipython3",
   "version": "3.6.8"
  },
  "orig_nbformat": 4
 },
 "nbformat": 4,
 "nbformat_minor": 2
}
